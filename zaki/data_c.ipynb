{
 "cells": [
  {
   "cell_type": "code",
   "metadata": {
    "cell_id": "8670a728-82c8-44b4-b004-f837a4687329",
    "deepnote_cell_type": "code"
   },
   "source": "import pandas as pd\nfrom sklearn import datasets\nfrom sklearn.feature_selection import RFE\nfrom sklearn.linear_model import LogisticRegression\nfrom sklearn.model_selection import train_test_split\nfrom operator import itemgetter\nimport statsmodels.api as sm\nfrom sklearn import metrics\nfrom sklearn.metrics import confusion_matrix\nfrom sklearn.metrics import classification_report\n",
   "execution_count": null,
   "outputs": []
  },
  {
   "cell_type": "code",
   "metadata": {
    "cell_id": "00001-2ce334f7-6b54-4db1-b771-675b827a84f4",
    "deepnote_cell_type": "code"
   },
   "source": "data1 = pd.read_csv('dengan_oh1.csv')",
   "execution_count": null,
   "outputs": []
  },
  {
   "cell_type": "code",
   "metadata": {
    "cell_id": "00002-67796b27-b99b-45e5-980f-a13ba50b71bf",
    "deepnote_cell_type": "code"
   },
   "source": "data1.columns.to_list()",
   "execution_count": null,
   "outputs": [
    {
     "data": {
      "text/plain": "['Customer_care_calls',\n 'Customer_rating',\n 'Cost_of_the_Product',\n 'Prior_purchases',\n 'Discount_offered_oh1',\n 'Weight_in_gms',\n 'Product_importance_labeled',\n 'Warehouse_block_A',\n 'Warehouse_block_B',\n 'Warehouse_block_C',\n 'Warehouse_block_D',\n 'Warehouse_block_F',\n 'Gender_F',\n 'Gender_M',\n 'Mode_of_Shipment_Flight',\n 'Mode_of_Shipment_Road',\n 'Mode_of_Shipment_Ship',\n 'is_shipping_late']"
     },
     "execution_count": 3,
     "metadata": {},
     "output_type": "execute_result"
    }
   ]
  },
  {
   "cell_type": "markdown",
   "source": "# pemisahan data target dan fitur",
   "metadata": {
    "cell_id": "00003-628f0479-f933-49b7-9cb7-f51f4790037f",
    "deepnote_cell_type": "markdown"
   }
  },
  {
   "cell_type": "code",
   "metadata": {
    "cell_id": "00004-3b727ee4-b8cc-4b55-8c6d-d06c12f5892a",
    "deepnote_cell_type": "code"
   },
   "source": "X = data1.drop(columns='is_shipping_late')\ny = data1['is_shipping_late']",
   "execution_count": null,
   "outputs": []
  },
  {
   "cell_type": "markdown",
   "source": "# split data dan deklarasi model",
   "metadata": {
    "cell_id": "00005-fd3bce21-fde1-41ff-9390-79725103b43f",
    "deepnote_cell_type": "markdown"
   }
  },
  {
   "cell_type": "code",
   "metadata": {
    "cell_id": "00006-9123df2d-c2f4-4495-be3d-21f67da6c583",
    "deepnote_cell_type": "code"
   },
   "source": "X_train, X_test, y_train, y_test = train_test_split(X, y, random_state=0)\nlogreg = LogisticRegression(random_state=1, max_iter=150)",
   "execution_count": null,
   "outputs": []
  },
  {
   "cell_type": "markdown",
   "source": "# feature selection",
   "metadata": {
    "cell_id": "00007-3f0c4510-7565-46f8-bf64-f72090aa3232",
    "deepnote_cell_type": "markdown"
   }
  },
  {
   "cell_type": "code",
   "metadata": {
    "cell_id": "00008-2d279c78-b61d-4415-9339-8593f76d17ff",
    "deepnote_cell_type": "code"
   },
   "source": "n_features_to_select = 10\nrfe = RFE(logreg, n_features_to_select=n_features_to_select)\nrfe.fit(X_train, y_train)\n\nfrom operator import itemgetter\nfeatures = X_train.columns.to_list()\nfor i, j in (sorted(zip(rfe.ranking_ , features), key=itemgetter(0))):\n    print(i, j)",
   "execution_count": null,
   "outputs": [
    {
     "name": "stderr",
     "output_type": "stream",
     "text": "C:\\Users\\zakik\\anaconda3\\lib\\site-packages\\sklearn\\linear_model\\_logistic.py:763: ConvergenceWarning: lbfgs failed to converge (status=1):\nSTOP: TOTAL NO. of ITERATIONS REACHED LIMIT.\n\nIncrease the number of iterations (max_iter) or scale the data as shown in:\n    https://scikit-learn.org/stable/modules/preprocessing.html\nPlease also refer to the documentation for alternative solver options:\n    https://scikit-learn.org/stable/modules/linear_model.html#logistic-regression\n  n_iter_i = _check_optimize_result(\n"
    },
    {
     "name": "stdout",
     "output_type": "stream",
     "text": "1 Customer_care_calls\n1 Customer_rating\n1 Discount_offered_oh1\n1 Product_importance_labeled\n1 Warehouse_block_A\n1 Warehouse_block_B\n1 Warehouse_block_D\n1 Gender_F\n1 Gender_M\n1 Mode_of_Shipment_Road\n2 Mode_of_Shipment_Ship\n3 Mode_of_Shipment_Flight\n4 Warehouse_block_F\n5 Warehouse_block_C\n6 Prior_purchases\n7 Cost_of_the_Product\n8 Weight_in_gms\n"
    }
   ]
  },
  {
   "cell_type": "code",
   "metadata": {
    "cell_id": "00009-355aa85f-5e3d-4bd2-8d45-1255aed53805",
    "deepnote_cell_type": "code"
   },
   "source": "temp = ['Customer_care_calls','Customer_rating','Discount_offered_oh1',\n        'Product_importance_labeled','Warehouse_block_A','Warehouse_block_B',\n        'Warehouse_block_D','Gender_F','Gender_M','Mode_of_Shipment_Road']\nX = data1[temp]\ny = data1.is_shipping_late",
   "execution_count": null,
   "outputs": []
  },
  {
   "cell_type": "code",
   "metadata": {
    "cell_id": "00010-c35710e4-e93e-4553-a934-3619662218a6",
    "deepnote_cell_type": "code"
   },
   "source": "logit_model=sm.Logit(y,X)\nresult=logit_model.fit()\nprint(result.summary2())",
   "execution_count": null,
   "outputs": [
    {
     "name": "stdout",
     "output_type": "stream",
     "text": "Optimization terminated successfully.\n         Current function value: 0.578038\n         Iterations 6\n                              Results: Logit\n==========================================================================\nModel:                 Logit               Pseudo R-squared:    0.143     \nDependent Variable:    is_shipping_late    AIC:                 12735.6775\nDate:                  2022-02-19 20:51    BIC:                 12808.7331\nNo. Observations:      10999               Log-Likelihood:      -6357.8   \nDf Model:              9                   LL-Null:             -7417.0   \nDf Residuals:          10989               LLR p-value:         0.0000    \nConverged:             1.0000              Scale:               1.0000    \nNo. Iterations:        6.0000                                             \n--------------------------------------------------------------------------\n                            Coef.  Std.Err.    z    P>|z|   [0.025  0.975]\n--------------------------------------------------------------------------\nCustomer_care_calls        -0.0313   0.0186 -1.6822 0.0925 -0.0677  0.0052\nCustomer_rating             0.0239   0.0151  1.5785 0.1144 -0.0058  0.0536\nDiscount_offered_oh1        0.1765   0.0046 38.3742 0.0000  0.1675  0.1855\nProduct_importance_labeled  0.0470   0.0336  1.3989 0.1618 -0.0189  0.1130\nWarehouse_block_A          -0.0384   0.0603 -0.6373 0.5239 -0.1566  0.0798\nWarehouse_block_B           0.0220   0.0605  0.3631 0.7166 -0.0966  0.1405\nWarehouse_block_D           0.0200   0.0604  0.3312 0.7405 -0.0984  0.1384\nGender_F                   -0.9639   0.1064 -9.0622 0.0000 -1.1723 -0.7554\nGender_M                   -0.9162   0.1062 -8.6230 0.0000 -1.1244 -0.7079\nMode_of_Shipment_Road      -0.0173   0.0582 -0.2970 0.7665 -0.1313  0.0967\n==========================================================================\n\n"
    }
   ]
  },
  {
   "cell_type": "code",
   "metadata": {
    "cell_id": "00011-36d28379-5b11-42e0-a022-c6faa8608ab3",
    "deepnote_cell_type": "code"
   },
   "source": "temp = ['Discount_offered_oh1','Gender_F','Gender_M']\nX = data1[temp]\ny = data1.is_shipping_late",
   "execution_count": null,
   "outputs": []
  },
  {
   "cell_type": "code",
   "metadata": {
    "cell_id": "00012-7d03d6bc-c94f-4cc0-8342-07926b3870a1",
    "deepnote_cell_type": "code"
   },
   "source": "logit_model=sm.Logit(y,X)\nresult=logit_model.fit()\nprint(result.summary2())",
   "execution_count": null,
   "outputs": [
    {
     "name": "stdout",
     "output_type": "stream",
     "text": "Optimization terminated successfully.\n         Current function value: 0.578430\n         Iterations 6\n                           Results: Logit\n=====================================================================\nModel:                Logit             Pseudo R-squared:  0.142     \nDependent Variable:   is_shipping_late  AIC:               12730.3043\nDate:                 2022-02-19 20:51  BIC:               12752.2209\nNo. Observations:     10999             Log-Likelihood:    -6362.2   \nDf Model:             2                 LL-Null:           -7417.0   \nDf Residuals:         10996             LLR p-value:       0.0000    \nConverged:            1.0000            Scale:             1.0000    \nNo. Iterations:       6.0000                                         \n---------------------------------------------------------------------\n                      Coef.  Std.Err.    z     P>|z|   [0.025  0.975]\n---------------------------------------------------------------------\nDiscount_offered_oh1  0.1771   0.0046  38.6569 0.0000  0.1681  0.1860\nGender_F             -0.9992   0.0436 -22.9423 0.0000 -1.0845 -0.9138\nGender_M             -0.9510   0.0432 -22.0365 0.0000 -1.0356 -0.8664\n=====================================================================\n\n"
    }
   ]
  },
  {
   "cell_type": "code",
   "metadata": {
    "cell_id": "00013-d487dab0-e9ae-4e59-95a7-6f622dc714c9",
    "deepnote_cell_type": "code"
   },
   "source": "X_train, X_test, y_train, y_test = train_test_split(X, y, random_state=0)\nlogreg.fit(X_train, y_train)",
   "execution_count": null,
   "outputs": [
    {
     "data": {
      "text/plain": "LogisticRegression(max_iter=150, random_state=1)"
     },
     "execution_count": 11,
     "metadata": {},
     "output_type": "execute_result"
    }
   ]
  },
  {
   "cell_type": "code",
   "metadata": {
    "cell_id": "00014-79d468e4-5973-4f6e-8963-f8953f38ca5a",
    "deepnote_cell_type": "code"
   },
   "source": "predict = logreg.predict(X_test)",
   "execution_count": null,
   "outputs": []
  },
  {
   "cell_type": "code",
   "metadata": {
    "cell_id": "00015-f2e9398b-1ae2-41c5-b997-c65880e29aff",
    "deepnote_cell_type": "code"
   },
   "source": "print('Accuracy of logistic regression classifier on test set: {:.2f}'.format(logreg.score(X_test, y_test)))",
   "execution_count": null,
   "outputs": [
    {
     "name": "stdout",
     "output_type": "stream",
     "text": "Accuracy of logistic regression classifier on test set: 0.61\n"
    }
   ]
  },
  {
   "cell_type": "code",
   "metadata": {
    "cell_id": "00016-31d74dce-dd71-41f5-8f06-c89ff485605f",
    "deepnote_cell_type": "code"
   },
   "source": "confusion_matrix = confusion_matrix(y_test, predict)\nprint(confusion_matrix)",
   "execution_count": null,
   "outputs": [
    {
     "name": "stdout",
     "output_type": "stream",
     "text": "[[ 572  563]\n [ 510 1105]]\n"
    }
   ]
  },
  {
   "cell_type": "code",
   "metadata": {
    "cell_id": "00017-8e39e8ac-8e0f-4667-8be3-dce550868177",
    "deepnote_cell_type": "code"
   },
   "source": "print(classification_report(y_test, predict))",
   "execution_count": null,
   "outputs": [
    {
     "name": "stdout",
     "output_type": "stream",
     "text": "              precision    recall  f1-score   support\n\n           0       0.53      0.50      0.52      1135\n           1       0.66      0.68      0.67      1615\n\n    accuracy                           0.61      2750\n   macro avg       0.60      0.59      0.59      2750\nweighted avg       0.61      0.61      0.61      2750\n\n"
    }
   ]
  },
  {
   "cell_type": "code",
   "metadata": {
    "cell_id": "00018-ae6deeda-233b-447c-b54d-14b0d1ffe300",
    "deepnote_cell_type": "code"
   },
   "source": "",
   "execution_count": null,
   "outputs": []
  },
  {
   "cell_type": "code",
   "metadata": {
    "cell_id": "00019-4e663233-f32e-4ab0-8d48-bf3c55846a1e",
    "deepnote_cell_type": "code"
   },
   "source": "from sklearn.metrics import accuracy_score, precision_score, recall_score, f1_score, roc_auc_score\n\ndef eval_classification(model, xtrain, ytrain, xtest, ytest):\n    ypred = model.predict(xtest)\n    print(\"Accuracy (Test Set): %.2f\" % accuracy_score(ytest, ypred))\n    print(\"Precision (Test Set): %.2f\" % precision_score(ytest, ypred))\n    print(\"Recall (Test Set): %.2f\" % recall_score(ytest, ypred))\n    print(\"F1-Score (Test Set): %.2f\" % f1_score(ytest, ypred))\n    \n    y_pred_proba = model.predict_proba(xtest)\n    print(\"AUC: %.2f\" % roc_auc_score(ytest, y_pred_proba[:, 1]))",
   "execution_count": null,
   "outputs": []
  },
  {
   "cell_type": "code",
   "metadata": {
    "cell_id": "00020-78d8b0a0-0cf7-4cc3-897a-cbd04691db4d",
    "deepnote_cell_type": "code"
   },
   "source": "eval_classification(logreg, X_train, y_train, X_test, y_test)",
   "execution_count": null,
   "outputs": [
    {
     "name": "stdout",
     "output_type": "stream",
     "text": "Accuracy (Test Set): 0.61\nPrecision (Test Set): 0.66\nRecall (Test Set): 0.68\nF1-Score (Test Set): 0.67\nAUC: 0.69\n"
    }
   ]
  },
  {
   "cell_type": "markdown",
   "source": "<a style='text-decoration:none;line-height:16px;display:flex;color:#5B5B62;padding:10px;justify-content:end;' href='https://deepnote.com?utm_source=created-in-deepnote-cell&projectId=a07282ea-a8ea-416e-9021-098a5f2d724d' target=\"_blank\">\n<img alt='Created in deepnote.com' style='display:inline;max-height:16px;margin:0px;margin-right:7.5px;' src='data:image/svg+xml;base64,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' > </img>\nCreated in <span style='font-weight:600;margin-left:4px;'>Deepnote</span></a>",
   "metadata": {
    "tags": [],
    "created_in_deepnote_cell": true,
    "deepnote_cell_type": "markdown"
   }
  }
 ],
 "nbformat": 4,
 "nbformat_minor": 5,
 "metadata": {
  "kernelspec": {
   "display_name": "Python 3",
   "language": "python",
   "name": "python3"
  },
  "language_info": {
   "codemirror_mode": {
    "name": "ipython",
    "version": 3
   },
   "file_extension": ".py",
   "mimetype": "text/x-python",
   "name": "python",
   "nbconvert_exporter": "python",
   "pygments_lexer": "ipython3",
   "version": "3.8.8"
  },
  "deepnote_notebook_id": "bb047f6e-e663-4902-85b6-b6349d38bacb",
  "deepnote": {},
  "deepnote_execution_queue": []
 }
}
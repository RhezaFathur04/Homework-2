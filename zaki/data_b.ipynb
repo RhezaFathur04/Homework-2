{
 "cells": [
  {
   "cell_type": "code",
   "execution_count": 1,
   "id": "7e2978b7",
   "metadata": {
    "cell_id": "d25fcd2c-0aed-4c43-8047-7de439b35b4c",
    "deepnote_cell_type": "code"
   },
   "outputs": [],
   "source": [
    "import pandas as pd\n",
    "from sklearn import datasets\n",
    "from sklearn.feature_selection import RFE\n",
    "from sklearn.linear_model import LogisticRegression\n",
    "from sklearn.model_selection import train_test_split\n",
    "from operator import itemgetter\n",
    "import statsmodels.api as sm\n",
    "from sklearn import metrics\n",
    "from sklearn.metrics import confusion_matrix\n",
    "from sklearn.metrics import classification_report\n"
   ]
  },
  {
   "cell_type": "code",
   "execution_count": 2,
   "id": "b79a211f",
   "metadata": {
    "cell_id": "00001-c95dba6b-dbbb-4f1b-abbb-d6be9de6347f",
    "deepnote_cell_type": "code"
   },
   "outputs": [],
   "source": [
    "data1 = pd.read_csv('dengan_log.csv')"
   ]
  },
  {
   "cell_type": "code",
   "execution_count": 3,
   "id": "46c57ad2",
   "metadata": {
    "cell_id": "00002-baaf0eae-7e69-4288-8687-1f38dc9ec347",
    "deepnote_cell_type": "code"
   },
   "outputs": [
    {
     "data": {
      "text/plain": [
       "['Customer_care_calls',\n",
       " 'Customer_rating',\n",
       " 'Cost_of_the_Product',\n",
       " 'Prior_purchases',\n",
       " 'Discount_offered_log',\n",
       " 'Weight_in_gms',\n",
       " 'Product_importance_labeled',\n",
       " 'Warehouse_block_A',\n",
       " 'Warehouse_block_B',\n",
       " 'Warehouse_block_C',\n",
       " 'Warehouse_block_D',\n",
       " 'Warehouse_block_F',\n",
       " 'Gender_F',\n",
       " 'Gender_M',\n",
       " 'Mode_of_Shipment_Flight',\n",
       " 'Mode_of_Shipment_Road',\n",
       " 'Mode_of_Shipment_Ship',\n",
       " 'is_shipping_late']"
      ]
     },
     "execution_count": 3,
     "metadata": {},
     "output_type": "execute_result"
    }
   ],
   "source": [
    "data1.columns.to_list()"
   ]
  },
  {
   "cell_type": "markdown",
   "id": "5e2a4c48",
   "metadata": {
    "cell_id": "00003-45c7139d-fc82-44dc-a61d-01384ed13f7d",
    "deepnote_cell_type": "markdown"
   },
   "source": [
    "# pemisahan data target dan fitur"
   ]
  },
  {
   "cell_type": "code",
   "execution_count": 4,
   "id": "2bf25a0d",
   "metadata": {
    "cell_id": "00004-c4627d07-4f95-428b-903c-ab4662aaa2ad",
    "deepnote_cell_type": "code"
   },
   "outputs": [],
   "source": [
    "X = data1.drop(columns='is_shipping_late')\n",
    "y = data1['is_shipping_late']"
   ]
  },
  {
   "cell_type": "markdown",
   "id": "d2fb229e",
   "metadata": {
    "cell_id": "00005-44494541-1026-4ba2-a6fc-090c50d984d7",
    "deepnote_cell_type": "markdown"
   },
   "source": [
    "# split data dan deklarasi model"
   ]
  },
  {
   "cell_type": "code",
   "execution_count": 5,
   "id": "8ee3ac5c",
   "metadata": {
    "cell_id": "00006-58afb2aa-cca4-423f-bff0-c48a74e5339f",
    "deepnote_cell_type": "code"
   },
   "outputs": [],
   "source": [
    "X_train, X_test, y_train, y_test = train_test_split(X, y, random_state=0)\n",
    "logreg = LogisticRegression(random_state=1, max_iter=150)"
   ]
  },
  {
   "cell_type": "markdown",
   "id": "bd5c8c3b",
   "metadata": {
    "cell_id": "00007-74bfc199-69da-4908-ab5c-086f2373d4e3",
    "deepnote_cell_type": "markdown"
   },
   "source": [
    "# feature selection"
   ]
  },
  {
   "cell_type": "code",
   "execution_count": 6,
   "id": "73cd30c5",
   "metadata": {
    "cell_id": "00008-d8423fa5-c499-41b8-a4aa-f3e6b8d42138",
    "deepnote_cell_type": "code"
   },
   "outputs": [
    {
     "name": "stderr",
     "output_type": "stream",
     "text": [
      "C:\\Users\\zakik\\anaconda3\\lib\\site-packages\\sklearn\\linear_model\\_logistic.py:814: ConvergenceWarning: lbfgs failed to converge (status=1):\n",
      "STOP: TOTAL NO. of ITERATIONS REACHED LIMIT.\n",
      "\n",
      "Increase the number of iterations (max_iter) or scale the data as shown in:\n",
      "    https://scikit-learn.org/stable/modules/preprocessing.html\n",
      "Please also refer to the documentation for alternative solver options:\n",
      "    https://scikit-learn.org/stable/modules/linear_model.html#logistic-regression\n",
      "  n_iter_i = _check_optimize_result(\n"
     ]
    },
    {
     "name": "stdout",
     "output_type": "stream",
     "text": [
      "1 Customer_care_calls\n",
      "1 Customer_rating\n",
      "1 Prior_purchases\n",
      "1 Discount_offered_log\n",
      "1 Product_importance_labeled\n",
      "1 Warehouse_block_A\n",
      "1 Warehouse_block_B\n",
      "1 Warehouse_block_D\n",
      "1 Gender_F\n",
      "1 Mode_of_Shipment_Road\n",
      "2 Mode_of_Shipment_Ship\n",
      "3 Mode_of_Shipment_Flight\n",
      "4 Gender_M\n",
      "5 Warehouse_block_F\n",
      "6 Warehouse_block_C\n",
      "7 Weight_in_gms\n",
      "8 Cost_of_the_Product\n"
     ]
    }
   ],
   "source": [
    "n_features_to_select = 10\n",
    "rfe = RFE(logreg, n_features_to_select=n_features_to_select)\n",
    "rfe.fit(X_train, y_train)\n",
    "\n",
    "from operator import itemgetter\n",
    "features = X_train.columns.to_list()\n",
    "for i, j in (sorted(zip(rfe.ranking_ , features), key=itemgetter(0))):\n",
    "    print(i, j)"
   ]
  },
  {
   "cell_type": "code",
   "execution_count": 7,
   "id": "923ef7b5",
   "metadata": {
    "cell_id": "00009-f7b27ac2-38a1-4887-913f-f6eabf962026",
    "deepnote_cell_type": "code"
   },
   "outputs": [],
   "source": [
    "temp = ['Customer_care_calls','Customer_rating','Prior_purchases','Discount_offered_log',\n",
    "        'Product_importance_labeled','Warehouse_block_A','Warehouse_block_B',\n",
    "        'Warehouse_block_D','Gender_F','Mode_of_Shipment_Road']\n",
    "X = data1[temp]\n",
    "y = data1.is_shipping_late"
   ]
  },
  {
   "cell_type": "code",
   "execution_count": 8,
   "id": "87b196e6",
   "metadata": {
    "cell_id": "00010-7e21b88c-62bb-43ad-811b-6fd92a41cc0b",
    "deepnote_cell_type": "code"
   },
   "outputs": [
    {
     "name": "stdout",
     "output_type": "stream",
     "text": [
      "Optimization terminated successfully.\n",
      "         Current function value: 0.605055\n",
      "         Iterations 5\n",
      "                              Results: Logit\n",
      "==========================================================================\n",
      "Model:                 Logit               Pseudo R-squared:    0.103     \n",
      "Dependent Variable:    is_shipping_late    AIC:                 13330.0088\n",
      "Date:                  2022-02-21 15:12    BIC:                 13403.0644\n",
      "No. Observations:      10999               Log-Likelihood:      -6655.0   \n",
      "Df Model:              9                   LL-Null:             -7417.0   \n",
      "Df Residuals:          10989               LLR p-value:         0.0000    \n",
      "Converged:             1.0000              Scale:               1.0000    \n",
      "No. Iterations:        5.0000                                             \n",
      "--------------------------------------------------------------------------\n",
      "                            Coef.  Std.Err.    z    P>|z|   [0.025  0.975]\n",
      "--------------------------------------------------------------------------\n",
      "Customer_care_calls        -0.1308   0.0144 -9.0992 0.0000 -0.1590 -0.1026\n",
      "Customer_rating            -0.0196   0.0136 -1.4349 0.1513 -0.0463  0.0072\n",
      "Prior_purchases            -0.0764   0.0131 -5.8419 0.0000 -0.1020 -0.0508\n",
      "Discount_offered_log        0.7195   0.0204 35.2459 0.0000  0.6795  0.7595\n",
      "Product_importance_labeled  0.0051   0.0320  0.1599 0.8729 -0.0576  0.0679\n",
      "Warehouse_block_A          -0.1037   0.0581 -1.7841 0.0744 -0.2176  0.0102\n",
      "Warehouse_block_B          -0.0419   0.0583 -0.7180 0.4728 -0.1562  0.0724\n",
      "Warehouse_block_D          -0.0385   0.0584 -0.6588 0.5100 -0.1529  0.0759\n",
      "Gender_F                   -0.0976   0.0410 -2.3805 0.0173 -0.1780 -0.0173\n",
      "Mode_of_Shipment_Road      -0.0566   0.0565 -1.0020 0.3163 -0.1673  0.0541\n",
      "==========================================================================\n",
      "\n"
     ]
    }
   ],
   "source": [
    "logit_model=sm.Logit(y,X)\n",
    "result=logit_model.fit()\n",
    "print(result.summary2())"
   ]
  },
  {
   "cell_type": "code",
   "execution_count": 9,
   "id": "79949968",
   "metadata": {
    "cell_id": "00011-8d380517-22b5-4d5a-a996-f82ff49c4f91",
    "deepnote_cell_type": "code"
   },
   "outputs": [],
   "source": [
    "temp = ['Customer_care_calls','Prior_purchases','Discount_offered_log',\n",
    "        'Gender_F']\n",
    "X = data1[temp]\n",
    "y = data1.is_shipping_late"
   ]
  },
  {
   "cell_type": "code",
   "execution_count": 10,
   "id": "dad51a07",
   "metadata": {
    "cell_id": "00012-edac918c-4693-4273-b201-fa76161762bb",
    "deepnote_cell_type": "code"
   },
   "outputs": [
    {
     "name": "stdout",
     "output_type": "stream",
     "text": [
      "Optimization terminated successfully.\n",
      "         Current function value: 0.605368\n",
      "         Iterations 5\n",
      "                           Results: Logit\n",
      "=====================================================================\n",
      "Model:                Logit             Pseudo R-squared:  0.102     \n",
      "Dependent Variable:   is_shipping_late  AIC:               13324.8960\n",
      "Date:                 2022-02-21 15:12  BIC:               13354.1182\n",
      "No. Observations:     10999             Log-Likelihood:    -6658.4   \n",
      "Df Model:             3                 LL-Null:           -7417.0   \n",
      "Df Residuals:         10995             LLR p-value:       0.0000    \n",
      "Converged:            1.0000            Scale:             1.0000    \n",
      "No. Iterations:       5.0000                                         \n",
      "---------------------------------------------------------------------\n",
      "                      Coef.  Std.Err.    z     P>|z|   [0.025  0.975]\n",
      "---------------------------------------------------------------------\n",
      "Customer_care_calls  -0.1433   0.0131 -10.9293 0.0000 -0.1690 -0.1176\n",
      "Prior_purchases      -0.0816   0.0127  -6.3981 0.0000 -0.1066 -0.0566\n",
      "Discount_offered_log  0.7102   0.0198  35.8601 0.0000  0.6714  0.7490\n",
      "Gender_F             -0.1058   0.0408  -2.5918 0.0095 -0.1857 -0.0258\n",
      "=====================================================================\n",
      "\n"
     ]
    }
   ],
   "source": [
    "logit_model=sm.Logit(y,X)\n",
    "result=logit_model.fit()\n",
    "print(result.summary2())"
   ]
  },
  {
   "cell_type": "code",
   "execution_count": 11,
   "id": "af5bb083",
   "metadata": {
    "cell_id": "00013-744a292b-3f85-43cc-b93f-b0399a3dfa85",
    "deepnote_cell_type": "code"
   },
   "outputs": [
    {
     "data": {
      "text/plain": [
       "LogisticRegression(max_iter=150, random_state=1)"
      ]
     },
     "execution_count": 11,
     "metadata": {},
     "output_type": "execute_result"
    }
   ],
   "source": [
    "X_train, X_test, y_train, y_test = train_test_split(X, y, random_state=0)\n",
    "logreg.fit(X_train, y_train)"
   ]
  },
  {
   "cell_type": "code",
   "execution_count": 12,
   "id": "f8697974",
   "metadata": {
    "cell_id": "00014-d05e0fa1-f9d0-49c4-b270-cea6ffd5647c",
    "deepnote_cell_type": "code"
   },
   "outputs": [],
   "source": [
    "predict = logreg.predict(X_test)"
   ]
  },
  {
   "cell_type": "code",
   "execution_count": 13,
   "id": "c096431d",
   "metadata": {
    "cell_id": "00015-0903285b-4a14-4446-bb7e-2c77ad38e489",
    "deepnote_cell_type": "code"
   },
   "outputs": [
    {
     "name": "stdout",
     "output_type": "stream",
     "text": [
      "Accuracy of logistic regression classifier on test set: 0.60\n"
     ]
    }
   ],
   "source": [
    "print('Accuracy of logistic regression classifier on test set: {:.2f}'.format(logreg.score(X_test, y_test)))"
   ]
  },
  {
   "cell_type": "code",
   "execution_count": 14,
   "id": "84dc1f88",
   "metadata": {
    "cell_id": "00016-f59d0f58-ec6c-4661-aeaa-9523ef169221",
    "deepnote_cell_type": "code"
   },
   "outputs": [
    {
     "name": "stdout",
     "output_type": "stream",
     "text": [
      "[[ 412  723]\n",
      " [ 365 1250]]\n"
     ]
    }
   ],
   "source": [
    "confusion_matrix = confusion_matrix(y_test, predict)\n",
    "print(confusion_matrix)"
   ]
  },
  {
   "cell_type": "code",
   "execution_count": 15,
   "id": "940cdbbe",
   "metadata": {
    "cell_id": "00017-3dc3ff0c-de55-4044-b7e1-dfd1a33db97e",
    "deepnote_cell_type": "code"
   },
   "outputs": [
    {
     "name": "stdout",
     "output_type": "stream",
     "text": [
      "              precision    recall  f1-score   support\n",
      "\n",
      "           0       0.53      0.36      0.43      1135\n",
      "           1       0.63      0.77      0.70      1615\n",
      "\n",
      "    accuracy                           0.60      2750\n",
      "   macro avg       0.58      0.57      0.56      2750\n",
      "weighted avg       0.59      0.60      0.59      2750\n",
      "\n"
     ]
    }
   ],
   "source": [
    "print(classification_report(y_test, predict))"
   ]
  },
  {
   "cell_type": "code",
   "execution_count": null,
   "id": "ea40fd99",
   "metadata": {
    "cell_id": "00018-63af8230-5197-4263-bfc1-59e38930e76b",
    "deepnote_cell_type": "code"
   },
   "outputs": [],
   "source": []
  },
  {
   "cell_type": "code",
   "execution_count": 16,
   "id": "cfc391bd",
   "metadata": {
    "cell_id": "00019-07fc4cdc-73f0-495c-9f4f-ff66b38c0039",
    "deepnote_cell_type": "code"
   },
   "outputs": [],
   "source": [
    "from sklearn.metrics import accuracy_score, precision_score, recall_score, f1_score, roc_auc_score\n",
    "\n",
    "def eval_classification(model, xtrain, ytrain, xtest, ytest):\n",
    "    ypred = model.predict(xtest)\n",
    "    print(\"Accuracy (Test Set): %.2f\" % accuracy_score(ytest, ypred))\n",
    "    print(\"Precision (Test Set): %.2f\" % precision_score(ytest, ypred))\n",
    "    print(\"Recall (Test Set): %.2f\" % recall_score(ytest, ypred))\n",
    "    print(\"F1-Score (Test Set): %.2f\" % f1_score(ytest, ypred))\n",
    "    \n",
    "    y_pred_proba = model.predict_proba(xtest)\n",
    "    print(\"AUC: %.2f\" % roc_auc_score(ytest, y_pred_proba[:, 1]))"
   ]
  },
  {
   "cell_type": "code",
   "execution_count": 17,
   "id": "f00387f2",
   "metadata": {
    "cell_id": "00020-d4f4074f-a880-4fc2-8c4f-5e78ae4d59b5",
    "deepnote_cell_type": "code"
   },
   "outputs": [
    {
     "name": "stdout",
     "output_type": "stream",
     "text": [
      "Accuracy (Test Set): 0.60\n",
      "Precision (Test Set): 0.63\n",
      "Recall (Test Set): 0.77\n",
      "F1-Score (Test Set): 0.70\n",
      "AUC: 0.69\n"
     ]
    }
   ],
   "source": [
    "eval_classification(logreg, X_train, y_train, X_test, y_test)"
   ]
  },
  {
   "cell_type": "code",
   "execution_count": 18,
   "id": "96afb853-b7c8-443d-be2e-ea605942cf6c",
   "metadata": {},
   "outputs": [],
   "source": [
    "from sklearn.model_selection import RepeatedStratifiedKFold\n",
    "from sklearn.model_selection import GridSearchCV"
   ]
  },
  {
   "cell_type": "code",
   "execution_count": 19,
   "id": "1f95aeeb-70ac-4f03-94e6-e856d73ebe0e",
   "metadata": {
    "cell_id": "00021-9b120541-7d10-4328-9c8c-72866afa221f",
    "deepnote_cell_type": "code"
   },
   "outputs": [],
   "source": [
    "# define models and parameters\n",
    "model = LogisticRegression()\n",
    "solvers = ['newton-cg', 'lbfgs', 'liblinear']\n",
    "penalty = ['none', 'l1', 'l2', 'elasticnet']\n",
    "c_values = [100, 10, 1.0, 0.1, 0.01]"
   ]
  },
  {
   "cell_type": "code",
   "execution_count": 20,
   "id": "22d64b98-7cd8-4682-add2-f1e6c03d7c38",
   "metadata": {
    "cell_id": "00021-9b120541-7d10-4328-9c8c-72866afa221f",
    "deepnote_cell_type": "code"
   },
   "outputs": [
    {
     "name": "stdout",
     "output_type": "stream",
     "text": [
      "Best: 0.609359 using {'C': 0.1, 'penalty': 'l2', 'solver': 'liblinear'}\n",
      "0.608965 (0.013042) with: {'C': 100, 'penalty': 'none', 'solver': 'newton-cg'}\n",
      "0.608965 (0.013042) with: {'C': 100, 'penalty': 'none', 'solver': 'lbfgs'}\n",
      "0.000000 (0.000000) with: {'C': 100, 'penalty': 'none', 'solver': 'liblinear'}\n",
      "0.000000 (0.000000) with: {'C': 100, 'penalty': 'l1', 'solver': 'newton-cg'}\n",
      "0.000000 (0.000000) with: {'C': 100, 'penalty': 'l1', 'solver': 'lbfgs'}\n",
      "0.608965 (0.013042) with: {'C': 100, 'penalty': 'l1', 'solver': 'liblinear'}\n",
      "0.608965 (0.013042) with: {'C': 100, 'penalty': 'l2', 'solver': 'newton-cg'}\n",
      "0.608965 (0.013042) with: {'C': 100, 'penalty': 'l2', 'solver': 'lbfgs'}\n",
      "0.608965 (0.013042) with: {'C': 100, 'penalty': 'l2', 'solver': 'liblinear'}\n",
      "0.000000 (0.000000) with: {'C': 100, 'penalty': 'elasticnet', 'solver': 'newton-cg'}\n",
      "0.000000 (0.000000) with: {'C': 100, 'penalty': 'elasticnet', 'solver': 'lbfgs'}\n",
      "0.000000 (0.000000) with: {'C': 100, 'penalty': 'elasticnet', 'solver': 'liblinear'}\n",
      "0.608965 (0.013042) with: {'C': 10, 'penalty': 'none', 'solver': 'newton-cg'}\n",
      "0.608965 (0.013042) with: {'C': 10, 'penalty': 'none', 'solver': 'lbfgs'}\n",
      "0.000000 (0.000000) with: {'C': 10, 'penalty': 'none', 'solver': 'liblinear'}\n",
      "0.000000 (0.000000) with: {'C': 10, 'penalty': 'l1', 'solver': 'newton-cg'}\n",
      "0.000000 (0.000000) with: {'C': 10, 'penalty': 'l1', 'solver': 'lbfgs'}\n",
      "0.608935 (0.013004) with: {'C': 10, 'penalty': 'l1', 'solver': 'liblinear'}\n",
      "0.608965 (0.013042) with: {'C': 10, 'penalty': 'l2', 'solver': 'newton-cg'}\n",
      "0.608965 (0.013042) with: {'C': 10, 'penalty': 'l2', 'solver': 'lbfgs'}\n",
      "0.608965 (0.013042) with: {'C': 10, 'penalty': 'l2', 'solver': 'liblinear'}\n",
      "0.000000 (0.000000) with: {'C': 10, 'penalty': 'elasticnet', 'solver': 'newton-cg'}\n",
      "0.000000 (0.000000) with: {'C': 10, 'penalty': 'elasticnet', 'solver': 'lbfgs'}\n",
      "0.000000 (0.000000) with: {'C': 10, 'penalty': 'elasticnet', 'solver': 'liblinear'}\n",
      "0.608965 (0.013042) with: {'C': 1.0, 'penalty': 'none', 'solver': 'newton-cg'}\n",
      "0.608965 (0.013042) with: {'C': 1.0, 'penalty': 'none', 'solver': 'lbfgs'}\n",
      "0.000000 (0.000000) with: {'C': 1.0, 'penalty': 'none', 'solver': 'liblinear'}\n",
      "0.000000 (0.000000) with: {'C': 1.0, 'penalty': 'l1', 'solver': 'newton-cg'}\n",
      "0.000000 (0.000000) with: {'C': 1.0, 'penalty': 'l1', 'solver': 'lbfgs'}\n",
      "0.608904 (0.012807) with: {'C': 1.0, 'penalty': 'l1', 'solver': 'liblinear'}\n",
      "0.608965 (0.013042) with: {'C': 1.0, 'penalty': 'l2', 'solver': 'newton-cg'}\n",
      "0.608965 (0.013042) with: {'C': 1.0, 'penalty': 'l2', 'solver': 'lbfgs'}\n",
      "0.608965 (0.012877) with: {'C': 1.0, 'penalty': 'l2', 'solver': 'liblinear'}\n",
      "0.000000 (0.000000) with: {'C': 1.0, 'penalty': 'elasticnet', 'solver': 'newton-cg'}\n",
      "0.000000 (0.000000) with: {'C': 1.0, 'penalty': 'elasticnet', 'solver': 'lbfgs'}\n",
      "0.000000 (0.000000) with: {'C': 1.0, 'penalty': 'elasticnet', 'solver': 'liblinear'}\n",
      "0.608965 (0.013042) with: {'C': 0.1, 'penalty': 'none', 'solver': 'newton-cg'}\n",
      "0.608965 (0.013042) with: {'C': 0.1, 'penalty': 'none', 'solver': 'lbfgs'}\n",
      "0.000000 (0.000000) with: {'C': 0.1, 'penalty': 'none', 'solver': 'liblinear'}\n",
      "0.000000 (0.000000) with: {'C': 0.1, 'penalty': 'l1', 'solver': 'newton-cg'}\n",
      "0.000000 (0.000000) with: {'C': 0.1, 'penalty': 'l1', 'solver': 'lbfgs'}\n",
      "0.609056 (0.011943) with: {'C': 0.1, 'penalty': 'l1', 'solver': 'liblinear'}\n",
      "0.608995 (0.012820) with: {'C': 0.1, 'penalty': 'l2', 'solver': 'newton-cg'}\n",
      "0.608995 (0.012820) with: {'C': 0.1, 'penalty': 'l2', 'solver': 'lbfgs'}\n",
      "0.609359 (0.012632) with: {'C': 0.1, 'penalty': 'l2', 'solver': 'liblinear'}\n",
      "0.000000 (0.000000) with: {'C': 0.1, 'penalty': 'elasticnet', 'solver': 'newton-cg'}\n",
      "0.000000 (0.000000) with: {'C': 0.1, 'penalty': 'elasticnet', 'solver': 'lbfgs'}\n",
      "0.000000 (0.000000) with: {'C': 0.1, 'penalty': 'elasticnet', 'solver': 'liblinear'}\n",
      "0.608965 (0.013042) with: {'C': 0.01, 'penalty': 'none', 'solver': 'newton-cg'}\n",
      "0.608965 (0.013042) with: {'C': 0.01, 'penalty': 'none', 'solver': 'lbfgs'}\n",
      "0.000000 (0.000000) with: {'C': 0.01, 'penalty': 'none', 'solver': 'liblinear'}\n",
      "0.000000 (0.000000) with: {'C': 0.01, 'penalty': 'l1', 'solver': 'newton-cg'}\n",
      "0.000000 (0.000000) with: {'C': 0.01, 'penalty': 'l1', 'solver': 'lbfgs'}\n",
      "0.605753 (0.012395) with: {'C': 0.01, 'penalty': 'l1', 'solver': 'liblinear'}\n",
      "0.608632 (0.011413) with: {'C': 0.01, 'penalty': 'l2', 'solver': 'newton-cg'}\n",
      "0.608632 (0.011413) with: {'C': 0.01, 'penalty': 'l2', 'solver': 'lbfgs'}\n",
      "0.608905 (0.011846) with: {'C': 0.01, 'penalty': 'l2', 'solver': 'liblinear'}\n",
      "0.000000 (0.000000) with: {'C': 0.01, 'penalty': 'elasticnet', 'solver': 'newton-cg'}\n",
      "0.000000 (0.000000) with: {'C': 0.01, 'penalty': 'elasticnet', 'solver': 'lbfgs'}\n",
      "0.000000 (0.000000) with: {'C': 0.01, 'penalty': 'elasticnet', 'solver': 'liblinear'}\n"
     ]
    },
    {
     "name": "stderr",
     "output_type": "stream",
     "text": [
      "C:\\Users\\zakik\\anaconda3\\lib\\site-packages\\sklearn\\model_selection\\_validation.py:372: FitFailedWarning: \n",
      "900 fits failed out of a total of 1800.\n",
      "The score on these train-test partitions for these parameters will be set to 0.\n",
      "If these failures are not expected, you can try to debug them by setting error_score='raise'.\n",
      "\n",
      "Below are more details about the failures:\n",
      "--------------------------------------------------------------------------------\n",
      "150 fits failed with the following error:\n",
      "Traceback (most recent call last):\n",
      "  File \"C:\\Users\\zakik\\anaconda3\\lib\\site-packages\\sklearn\\model_selection\\_validation.py\", line 680, in _fit_and_score\n",
      "    estimator.fit(X_train, y_train, **fit_params)\n",
      "  File \"C:\\Users\\zakik\\anaconda3\\lib\\site-packages\\sklearn\\linear_model\\_logistic.py\", line 1461, in fit\n",
      "    solver = _check_solver(self.solver, self.penalty, self.dual)\n",
      "  File \"C:\\Users\\zakik\\anaconda3\\lib\\site-packages\\sklearn\\linear_model\\_logistic.py\", line 464, in _check_solver\n",
      "    raise ValueError(\"penalty='none' is not supported for the liblinear solver\")\n",
      "ValueError: penalty='none' is not supported for the liblinear solver\n",
      "\n",
      "--------------------------------------------------------------------------------\n",
      "150 fits failed with the following error:\n",
      "Traceback (most recent call last):\n",
      "  File \"C:\\Users\\zakik\\anaconda3\\lib\\site-packages\\sklearn\\model_selection\\_validation.py\", line 680, in _fit_and_score\n",
      "    estimator.fit(X_train, y_train, **fit_params)\n",
      "  File \"C:\\Users\\zakik\\anaconda3\\lib\\site-packages\\sklearn\\linear_model\\_logistic.py\", line 1461, in fit\n",
      "    solver = _check_solver(self.solver, self.penalty, self.dual)\n",
      "  File \"C:\\Users\\zakik\\anaconda3\\lib\\site-packages\\sklearn\\linear_model\\_logistic.py\", line 447, in _check_solver\n",
      "    raise ValueError(\n",
      "ValueError: Solver newton-cg supports only 'l2' or 'none' penalties, got l1 penalty.\n",
      "\n",
      "--------------------------------------------------------------------------------\n",
      "150 fits failed with the following error:\n",
      "Traceback (most recent call last):\n",
      "  File \"C:\\Users\\zakik\\anaconda3\\lib\\site-packages\\sklearn\\model_selection\\_validation.py\", line 680, in _fit_and_score\n",
      "    estimator.fit(X_train, y_train, **fit_params)\n",
      "  File \"C:\\Users\\zakik\\anaconda3\\lib\\site-packages\\sklearn\\linear_model\\_logistic.py\", line 1461, in fit\n",
      "    solver = _check_solver(self.solver, self.penalty, self.dual)\n",
      "  File \"C:\\Users\\zakik\\anaconda3\\lib\\site-packages\\sklearn\\linear_model\\_logistic.py\", line 447, in _check_solver\n",
      "    raise ValueError(\n",
      "ValueError: Solver lbfgs supports only 'l2' or 'none' penalties, got l1 penalty.\n",
      "\n",
      "--------------------------------------------------------------------------------\n",
      "150 fits failed with the following error:\n",
      "Traceback (most recent call last):\n",
      "  File \"C:\\Users\\zakik\\anaconda3\\lib\\site-packages\\sklearn\\model_selection\\_validation.py\", line 680, in _fit_and_score\n",
      "    estimator.fit(X_train, y_train, **fit_params)\n",
      "  File \"C:\\Users\\zakik\\anaconda3\\lib\\site-packages\\sklearn\\linear_model\\_logistic.py\", line 1461, in fit\n",
      "    solver = _check_solver(self.solver, self.penalty, self.dual)\n",
      "  File \"C:\\Users\\zakik\\anaconda3\\lib\\site-packages\\sklearn\\linear_model\\_logistic.py\", line 447, in _check_solver\n",
      "    raise ValueError(\n",
      "ValueError: Solver newton-cg supports only 'l2' or 'none' penalties, got elasticnet penalty.\n",
      "\n",
      "--------------------------------------------------------------------------------\n",
      "150 fits failed with the following error:\n",
      "Traceback (most recent call last):\n",
      "  File \"C:\\Users\\zakik\\anaconda3\\lib\\site-packages\\sklearn\\model_selection\\_validation.py\", line 680, in _fit_and_score\n",
      "    estimator.fit(X_train, y_train, **fit_params)\n",
      "  File \"C:\\Users\\zakik\\anaconda3\\lib\\site-packages\\sklearn\\linear_model\\_logistic.py\", line 1461, in fit\n",
      "    solver = _check_solver(self.solver, self.penalty, self.dual)\n",
      "  File \"C:\\Users\\zakik\\anaconda3\\lib\\site-packages\\sklearn\\linear_model\\_logistic.py\", line 447, in _check_solver\n",
      "    raise ValueError(\n",
      "ValueError: Solver lbfgs supports only 'l2' or 'none' penalties, got elasticnet penalty.\n",
      "\n",
      "--------------------------------------------------------------------------------\n",
      "150 fits failed with the following error:\n",
      "Traceback (most recent call last):\n",
      "  File \"C:\\Users\\zakik\\anaconda3\\lib\\site-packages\\sklearn\\model_selection\\_validation.py\", line 680, in _fit_and_score\n",
      "    estimator.fit(X_train, y_train, **fit_params)\n",
      "  File \"C:\\Users\\zakik\\anaconda3\\lib\\site-packages\\sklearn\\linear_model\\_logistic.py\", line 1461, in fit\n",
      "    solver = _check_solver(self.solver, self.penalty, self.dual)\n",
      "  File \"C:\\Users\\zakik\\anaconda3\\lib\\site-packages\\sklearn\\linear_model\\_logistic.py\", line 457, in _check_solver\n",
      "    raise ValueError(\n",
      "ValueError: Only 'saga' solver supports elasticnet penalty, got solver=liblinear.\n",
      "\n",
      "  warnings.warn(some_fits_failed_message, FitFailedWarning)\n"
     ]
    }
   ],
   "source": [
    "# define grid search\n",
    "grid = dict(solver=solvers,penalty=penalty,C=c_values)\n",
    "cv = RepeatedStratifiedKFold(n_splits=10, n_repeats=3, random_state=1)\n",
    "grid_search = GridSearchCV(estimator=model, param_grid=grid, n_jobs=-1, cv=cv, scoring='accuracy',error_score=0)\n",
    "grid_result = grid_search.fit(X, y)\n",
    "# summarize results\n",
    "print(\"Best: %f using %s\" % (grid_result.best_score_, grid_result.best_params_))\n",
    "means = grid_result.cv_results_['mean_test_score']\n",
    "stds = grid_result.cv_results_['std_test_score']\n",
    "params = grid_result.cv_results_['params']\n",
    "for mean, stdev, param in zip(means, stds, params):\n",
    "    print(\"%f (%f) with: %r\" % (mean, stdev, param))"
   ]
  },
  {
   "cell_type": "markdown",
   "id": "9bb18e69",
   "metadata": {
    "created_in_deepnote_cell": true,
    "deepnote_cell_type": "markdown",
    "tags": []
   },
   "source": [
    "<a style='text-decoration:none;line-height:16px;display:flex;color:#5B5B62;padding:10px;justify-content:end;' href='https://deepnote.com?utm_source=created-in-deepnote-cell&projectId=a07282ea-a8ea-416e-9021-098a5f2d724d' target=\"_blank\">\n",
    "<img alt='Created in deepnote.com' style='display:inline;max-height:16px;margin:0px;margin-right:7.5px;' src='data:image/svg+xml;base64,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' > </img>\n",
    "Created in <span style='font-weight:600;margin-left:4px;'>Deepnote</span></a>"
   ]
  }
 ],
 "metadata": {
  "deepnote": {},
  "deepnote_execution_queue": [],
  "deepnote_notebook_id": "0ec3b2bd-93cb-4cb9-bb9d-db481157cf68",
  "kernelspec": {
   "display_name": "Python 3",
   "language": "python",
   "name": "python3"
  },
  "language_info": {
   "codemirror_mode": {
    "name": "ipython",
    "version": 3
   },
   "file_extension": ".py",
   "mimetype": "text/x-python",
   "name": "python",
   "nbconvert_exporter": "python",
   "pygments_lexer": "ipython3",
   "version": "3.8.8"
  }
 },
 "nbformat": 4,
 "nbformat_minor": 5
}

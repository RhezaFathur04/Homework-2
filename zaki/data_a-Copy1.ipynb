{
 "cells": [
  {
   "cell_type": "code",
   "execution_count": 1,
   "id": "1ebe7fd0",
   "metadata": {
    "cell_id": "6eb893b1-bef3-4ee7-b757-f25f6810073c",
    "deepnote_cell_type": "code"
   },
   "outputs": [],
   "source": [
    "import pandas as pd\n",
    "from sklearn import datasets\n",
    "from sklearn.feature_selection import RFE\n",
    "from sklearn.linear_model import LogisticRegression\n",
    "from sklearn.model_selection import train_test_split\n",
    "from operator import itemgetter\n",
    "import statsmodels.api as sm\n",
    "from sklearn import metrics\n",
    "from sklearn.metrics import confusion_matrix\n",
    "from sklearn.metrics import classification_report\n",
    "from sklearn.metrics import accuracy_score, precision_score, recall_score, f1_score, roc_auc_score\n"
   ]
  },
  {
   "cell_type": "code",
   "execution_count": 2,
   "id": "8e51bc36",
   "metadata": {
    "cell_id": "00001-c7c2b901-014b-4717-b16d-6348ff440d45",
    "deepnote_cell_type": "code"
   },
   "outputs": [],
   "source": [
    "data1 = pd.read_csv('only_label.csv')"
   ]
  },
  {
   "cell_type": "code",
   "execution_count": 3,
   "id": "175f155f",
   "metadata": {
    "cell_id": "00002-750ce5b0-39c6-4971-b43b-d6e8e45fbacb",
    "deepnote_cell_type": "code"
   },
   "outputs": [
    {
     "data": {
      "text/plain": [
       "['Customer_care_calls',\n",
       " 'Customer_rating',\n",
       " 'Cost_of_the_Product',\n",
       " 'Prior_purchases',\n",
       " 'Discount_offered',\n",
       " 'Weight_in_gms',\n",
       " 'Product_importance_labeled',\n",
       " 'Warehouse_block_A',\n",
       " 'Warehouse_block_B',\n",
       " 'Warehouse_block_C',\n",
       " 'Warehouse_block_D',\n",
       " 'Warehouse_block_F',\n",
       " 'Gender_F',\n",
       " 'Gender_M',\n",
       " 'Mode_of_Shipment_Flight',\n",
       " 'Mode_of_Shipment_Road',\n",
       " 'Mode_of_Shipment_Ship',\n",
       " 'is_shipping_late']"
      ]
     },
     "execution_count": 3,
     "metadata": {},
     "output_type": "execute_result"
    }
   ],
   "source": [
    "data1.columns.to_list()"
   ]
  },
  {
   "cell_type": "markdown",
   "id": "6e2afb1f",
   "metadata": {
    "cell_id": "00003-ff16954b-f093-45f0-a3c9-5b4cbbf7d184",
    "deepnote_cell_type": "markdown"
   },
   "source": [
    "# pemisahan data target dan fitur"
   ]
  },
  {
   "cell_type": "code",
   "execution_count": 4,
   "id": "6e98b26d",
   "metadata": {
    "cell_id": "00004-67b579fc-178e-48da-9968-71750903baca",
    "deepnote_cell_type": "code"
   },
   "outputs": [],
   "source": [
    "X = data1.drop(columns='is_shipping_late')\n",
    "y = data1['is_shipping_late']"
   ]
  },
  {
   "cell_type": "markdown",
   "id": "9ac81f24",
   "metadata": {
    "cell_id": "00005-1ab844ae-9b19-4ce6-912b-952653b22210",
    "deepnote_cell_type": "markdown"
   },
   "source": [
    "# split data dan deklarasi model"
   ]
  },
  {
   "cell_type": "code",
   "execution_count": 11,
   "id": "8312907b",
   "metadata": {
    "cell_id": "00006-e944d953-593c-4923-8956-e0471e471641",
    "deepnote_cell_type": "code"
   },
   "outputs": [],
   "source": [
    "X_train, X_test, y_train, y_test = train_test_split(X, y, test_size=.3, random_state=0)\n",
    "logreg = LogisticRegression(random_state=1, max_iter=150)"
   ]
  },
  {
   "cell_type": "markdown",
   "id": "4dbcc8e3",
   "metadata": {
    "cell_id": "00007-8fc50baf-0a34-44dc-af43-2e7aafc281b7",
    "deepnote_cell_type": "markdown"
   },
   "source": [
    "# feature selection"
   ]
  },
  {
   "cell_type": "code",
   "execution_count": 12,
   "id": "e9940d74",
   "metadata": {
    "cell_id": "00008-f9896d20-4cf0-4882-b79a-e0c9c0333fd4",
    "deepnote_cell_type": "code"
   },
   "outputs": [
    {
     "name": "stdout",
     "output_type": "stream",
     "text": [
      "1 Customer_care_calls\n",
      "1 Discount_offered\n",
      "1 Product_importance_labeled\n",
      "1 Warehouse_block_A\n",
      "1 Warehouse_block_B\n",
      "1 Warehouse_block_D\n",
      "1 Gender_M\n",
      "1 Mode_of_Shipment_Flight\n",
      "1 Mode_of_Shipment_Road\n",
      "1 Mode_of_Shipment_Ship\n"
     ]
    }
   ],
   "source": [
    "n_features_to_select = 10\n",
    "rfe = RFE(logreg, n_features_to_select=n_features_to_select)\n",
    "rfe.fit(X_train, y_train)\n",
    "\n",
    "from operator import itemgetter\n",
    "features = X_train.columns.to_list()\n",
    "for i, j in (sorted(zip(rfe.ranking_ , features), key=itemgetter(0))):\n",
    "    print(i, j)"
   ]
  },
  {
   "cell_type": "code",
   "execution_count": 13,
   "id": "3c8e93a7",
   "metadata": {
    "cell_id": "00009-5f180950-bc93-4c39-91e8-128ed64e4abd",
    "deepnote_cell_type": "code"
   },
   "outputs": [],
   "source": [
    "temp = ['Customer_care_calls','Discount_offered','Product_importance_labeled',\n",
    "        'Warehouse_block_A','Warehouse_block_B','Warehouse_block_D','Gender_M',\n",
    "        'Mode_of_Shipment_Flight','Mode_of_Shipment_Road','Mode_of_Shipment_Ship']\n",
    "X = data1[temp]\n",
    "y = data1.is_shipping_late"
   ]
  },
  {
   "cell_type": "code",
   "execution_count": 14,
   "id": "2674c255",
   "metadata": {
    "cell_id": "00011-9e46089f-c336-4367-92b3-c1d4671f336f",
    "deepnote_cell_type": "code"
   },
   "outputs": [
    {
     "name": "stdout",
     "output_type": "stream",
     "text": [
      "Optimization terminated successfully.\n",
      "         Current function value: 0.556884\n",
      "         Iterations 8\n",
      "                              Results: Logit\n",
      "==========================================================================\n",
      "Model:                 Logit               Pseudo R-squared:    0.174     \n",
      "Dependent Variable:    is_shipping_late    AIC:                 12270.3412\n",
      "Date:                  2022-02-21 15:47    BIC:                 12343.3968\n",
      "No. Observations:      10999               Log-Likelihood:      -6125.2   \n",
      "Df Model:              9                   LL-Null:             -7417.0   \n",
      "Df Residuals:          10989               LLR p-value:         0.0000    \n",
      "Converged:             1.0000              Scale:               1.0000    \n",
      "No. Iterations:        8.0000                                             \n",
      "--------------------------------------------------------------------------\n",
      "                            Coef.  Std.Err.    z    P>|z|   [0.025  0.975]\n",
      "--------------------------------------------------------------------------\n",
      "Customer_care_calls        -0.0178   0.0186 -0.9524 0.3409 -0.0543  0.0188\n",
      "Discount_offered            0.1255   0.0043 28.9730 0.0000  0.1170  0.1340\n",
      "Product_importance_labeled  0.0411   0.0339  1.2104 0.2261 -0.0254  0.1076\n",
      "Warehouse_block_A          -0.0326   0.0608 -0.5363 0.5918 -0.1517  0.0865\n",
      "Warehouse_block_B           0.0308   0.0609  0.5053 0.6134 -0.0886  0.1501\n",
      "Warehouse_block_D           0.0286   0.0608  0.4705 0.6380 -0.0905  0.1477\n",
      "Gender_M                    0.0501   0.0431  1.1620 0.2452 -0.0344  0.1345\n",
      "Mode_of_Shipment_Flight    -0.6932   0.1079 -6.4272 0.0000 -0.9046 -0.4818\n",
      "Mode_of_Shipment_Road      -0.7371   0.1072 -6.8755 0.0000 -0.9472 -0.5270\n",
      "Mode_of_Shipment_Ship      -0.7163   0.0961 -7.4520 0.0000 -0.9047 -0.5279\n",
      "==========================================================================\n",
      "\n"
     ]
    }
   ],
   "source": [
    "logit_model=sm.Logit(y,X)\n",
    "result=logit_model.fit()\n",
    "print(result.summary2())"
   ]
  },
  {
   "cell_type": "code",
   "execution_count": 15,
   "id": "60fba9f4",
   "metadata": {
    "cell_id": "00012-06fa681c-5b76-47a7-a8b9-f89397b1c9ba",
    "deepnote_cell_type": "code"
   },
   "outputs": [],
   "source": [
    "temp = ['Discount_offered','Mode_of_Shipment_Flight','Mode_of_Shipment_Road',\n",
    "        'Mode_of_Shipment_Ship']\n",
    "final_X = data1[temp]\n",
    "final_y = data1.is_shipping_late"
   ]
  },
  {
   "cell_type": "code",
   "execution_count": 16,
   "id": "025757d1",
   "metadata": {
    "cell_id": "00013-20123005-7fe2-4661-a261-db04bc702743",
    "deepnote_cell_type": "code"
   },
   "outputs": [
    {
     "name": "stdout",
     "output_type": "stream",
     "text": [
      "Optimization terminated successfully.\n",
      "         Current function value: 0.557109\n",
      "         Iterations 8\n",
      "                             Results: Logit\n",
      "========================================================================\n",
      "Model:                 Logit              Pseudo R-squared:   0.174     \n",
      "Dependent Variable:    is_shipping_late   AIC:                12263.2838\n",
      "Date:                  2022-02-21 15:48   BIC:                12292.5061\n",
      "No. Observations:      10999              Log-Likelihood:     -6127.6   \n",
      "Df Model:              3                  LL-Null:            -7417.0   \n",
      "Df Residuals:          10995              LLR p-value:        0.0000    \n",
      "Converged:             1.0000             Scale:              1.0000    \n",
      "No. Iterations:        8.0000                                           \n",
      "------------------------------------------------------------------------\n",
      "                         Coef.  Std.Err.    z     P>|z|   [0.025  0.975]\n",
      "------------------------------------------------------------------------\n",
      "Discount_offered         0.1257   0.0043  29.0741 0.0000  0.1172  0.1341\n",
      "Mode_of_Shipment_Flight -0.7128   0.0604 -11.7956 0.0000 -0.8313 -0.5944\n",
      "Mode_of_Shipment_Road   -0.7580   0.0603 -12.5692 0.0000 -0.8762 -0.6398\n",
      "Mode_of_Shipment_Ship   -0.7368   0.0382 -19.2665 0.0000 -0.8117 -0.6618\n",
      "========================================================================\n",
      "\n"
     ]
    }
   ],
   "source": [
    "logit_model=sm.Logit(final_y,final_X)\n",
    "result=logit_model.fit()\n",
    "print(result.summary2())"
   ]
  },
  {
   "cell_type": "code",
   "execution_count": 17,
   "id": "12b7b43f",
   "metadata": {
    "cell_id": "00014-19e3a697-d446-4edf-8f18-12aa874035e2",
    "deepnote_cell_type": "code"
   },
   "outputs": [
    {
     "data": {
      "text/plain": [
       "LogisticRegression(max_iter=150, random_state=1)"
      ]
     },
     "execution_count": 17,
     "metadata": {},
     "output_type": "execute_result"
    }
   ],
   "source": [
    "X_train, X_test, y_train, y_test = train_test_split(final_X, final_y, test_size=.3,  random_state=0)\n",
    "logreg.fit(X_train, y_train)"
   ]
  },
  {
   "cell_type": "code",
   "execution_count": 18,
   "id": "4ff06c27-d587-4894-ab6c-631335d5fa0e",
   "metadata": {},
   "outputs": [],
   "source": [
    "from sklearn.model_selection import RepeatedStratifiedKFold\n",
    "from sklearn.model_selection import GridSearchCV"
   ]
  },
  {
   "cell_type": "code",
   "execution_count": 53,
   "id": "e2abcaea-cb3d-43e6-b8ae-722d08aaf4d7",
   "metadata": {
    "cell_id": "00021-9b120541-7d10-4328-9c8c-72866afa221f",
    "deepnote_cell_type": "code"
   },
   "outputs": [],
   "source": [
    "# define models and parameters\n",
    "model = LogisticRegression(random_state=1)\n",
    "solvers = ['newton-cg', 'lbfgs', 'liblinear']\n",
    "penalty = ['l1', 'l2', 'elasticnet']\n",
    "c_values = [100, 10, 1.0, 0.1, 0.01]"
   ]
  },
  {
   "cell_type": "code",
   "execution_count": 54,
   "id": "d33a9d2d-7403-4aa3-9e49-0dfef47a00ca",
   "metadata": {
    "cell_id": "00021-9b120541-7d10-4328-9c8c-72866afa221f",
    "deepnote_cell_type": "code",
    "tags": []
   },
   "outputs": [
    {
     "name": "stdout",
     "output_type": "stream",
     "text": [
      "Best: 0.623503 using {'C': 100, 'penalty': 'l1', 'solver': 'liblinear'}\n",
      "0.000000 (0.000000) with: {'C': 100, 'penalty': 'l1', 'solver': 'newton-cg'}\n",
      "0.000000 (0.000000) with: {'C': 100, 'penalty': 'l1', 'solver': 'lbfgs'}\n",
      "0.623503 (0.015158) with: {'C': 100, 'penalty': 'l1', 'solver': 'liblinear'}\n",
      "0.623503 (0.015158) with: {'C': 100, 'penalty': 'l2', 'solver': 'newton-cg'}\n",
      "0.623503 (0.015158) with: {'C': 100, 'penalty': 'l2', 'solver': 'lbfgs'}\n",
      "0.623503 (0.015158) with: {'C': 100, 'penalty': 'l2', 'solver': 'liblinear'}\n",
      "0.000000 (0.000000) with: {'C': 100, 'penalty': 'elasticnet', 'solver': 'newton-cg'}\n",
      "0.000000 (0.000000) with: {'C': 100, 'penalty': 'elasticnet', 'solver': 'lbfgs'}\n",
      "0.000000 (0.000000) with: {'C': 100, 'penalty': 'elasticnet', 'solver': 'liblinear'}\n",
      "0.000000 (0.000000) with: {'C': 10, 'penalty': 'l1', 'solver': 'newton-cg'}\n",
      "0.000000 (0.000000) with: {'C': 10, 'penalty': 'l1', 'solver': 'lbfgs'}\n",
      "0.623503 (0.015158) with: {'C': 10, 'penalty': 'l1', 'solver': 'liblinear'}\n",
      "0.623503 (0.015158) with: {'C': 10, 'penalty': 'l2', 'solver': 'newton-cg'}\n",
      "0.623503 (0.015158) with: {'C': 10, 'penalty': 'l2', 'solver': 'lbfgs'}\n",
      "0.623503 (0.015158) with: {'C': 10, 'penalty': 'l2', 'solver': 'liblinear'}\n",
      "0.000000 (0.000000) with: {'C': 10, 'penalty': 'elasticnet', 'solver': 'newton-cg'}\n",
      "0.000000 (0.000000) with: {'C': 10, 'penalty': 'elasticnet', 'solver': 'lbfgs'}\n",
      "0.000000 (0.000000) with: {'C': 10, 'penalty': 'elasticnet', 'solver': 'liblinear'}\n",
      "0.000000 (0.000000) with: {'C': 1.0, 'penalty': 'l1', 'solver': 'newton-cg'}\n",
      "0.000000 (0.000000) with: {'C': 1.0, 'penalty': 'l1', 'solver': 'lbfgs'}\n",
      "0.623286 (0.015355) with: {'C': 1.0, 'penalty': 'l1', 'solver': 'liblinear'}\n",
      "0.623503 (0.015158) with: {'C': 1.0, 'penalty': 'l2', 'solver': 'newton-cg'}\n",
      "0.623503 (0.015158) with: {'C': 1.0, 'penalty': 'l2', 'solver': 'lbfgs'}\n",
      "0.623503 (0.015158) with: {'C': 1.0, 'penalty': 'l2', 'solver': 'liblinear'}\n",
      "0.000000 (0.000000) with: {'C': 1.0, 'penalty': 'elasticnet', 'solver': 'newton-cg'}\n",
      "0.000000 (0.000000) with: {'C': 1.0, 'penalty': 'elasticnet', 'solver': 'lbfgs'}\n",
      "0.000000 (0.000000) with: {'C': 1.0, 'penalty': 'elasticnet', 'solver': 'liblinear'}\n",
      "0.000000 (0.000000) with: {'C': 0.1, 'penalty': 'l1', 'solver': 'newton-cg'}\n",
      "0.000000 (0.000000) with: {'C': 0.1, 'penalty': 'l1', 'solver': 'lbfgs'}\n",
      "0.621294 (0.014065) with: {'C': 0.1, 'penalty': 'l1', 'solver': 'liblinear'}\n",
      "0.623503 (0.015158) with: {'C': 0.1, 'penalty': 'l2', 'solver': 'newton-cg'}\n",
      "0.623503 (0.015158) with: {'C': 0.1, 'penalty': 'l2', 'solver': 'lbfgs'}\n",
      "0.622767 (0.014711) with: {'C': 0.1, 'penalty': 'l2', 'solver': 'liblinear'}\n",
      "0.000000 (0.000000) with: {'C': 0.1, 'penalty': 'elasticnet', 'solver': 'newton-cg'}\n",
      "0.000000 (0.000000) with: {'C': 0.1, 'penalty': 'elasticnet', 'solver': 'lbfgs'}\n",
      "0.000000 (0.000000) with: {'C': 0.1, 'penalty': 'elasticnet', 'solver': 'liblinear'}\n",
      "0.000000 (0.000000) with: {'C': 0.01, 'penalty': 'l1', 'solver': 'newton-cg'}\n",
      "0.000000 (0.000000) with: {'C': 0.01, 'penalty': 'l1', 'solver': 'lbfgs'}\n",
      "0.616055 (0.014509) with: {'C': 0.01, 'penalty': 'l1', 'solver': 'liblinear'}\n",
      "0.622334 (0.014603) with: {'C': 0.01, 'penalty': 'l2', 'solver': 'newton-cg'}\n",
      "0.622334 (0.014603) with: {'C': 0.01, 'penalty': 'l2', 'solver': 'lbfgs'}\n",
      "0.620472 (0.013857) with: {'C': 0.01, 'penalty': 'l2', 'solver': 'liblinear'}\n",
      "0.000000 (0.000000) with: {'C': 0.01, 'penalty': 'elasticnet', 'solver': 'newton-cg'}\n",
      "0.000000 (0.000000) with: {'C': 0.01, 'penalty': 'elasticnet', 'solver': 'lbfgs'}\n",
      "0.000000 (0.000000) with: {'C': 0.01, 'penalty': 'elasticnet', 'solver': 'liblinear'}\n"
     ]
    },
    {
     "name": "stderr",
     "output_type": "stream",
     "text": [
      "C:\\Users\\zakik\\anaconda3\\lib\\site-packages\\sklearn\\model_selection\\_validation.py:372: FitFailedWarning: \n",
      "750 fits failed out of a total of 1350.\n",
      "The score on these train-test partitions for these parameters will be set to 0.\n",
      "If these failures are not expected, you can try to debug them by setting error_score='raise'.\n",
      "\n",
      "Below are more details about the failures:\n",
      "--------------------------------------------------------------------------------\n",
      "150 fits failed with the following error:\n",
      "Traceback (most recent call last):\n",
      "  File \"C:\\Users\\zakik\\anaconda3\\lib\\site-packages\\sklearn\\model_selection\\_validation.py\", line 680, in _fit_and_score\n",
      "    estimator.fit(X_train, y_train, **fit_params)\n",
      "  File \"C:\\Users\\zakik\\anaconda3\\lib\\site-packages\\sklearn\\linear_model\\_logistic.py\", line 1461, in fit\n",
      "    solver = _check_solver(self.solver, self.penalty, self.dual)\n",
      "  File \"C:\\Users\\zakik\\anaconda3\\lib\\site-packages\\sklearn\\linear_model\\_logistic.py\", line 447, in _check_solver\n",
      "    raise ValueError(\n",
      "ValueError: Solver newton-cg supports only 'l2' or 'none' penalties, got l1 penalty.\n",
      "\n",
      "--------------------------------------------------------------------------------\n",
      "150 fits failed with the following error:\n",
      "Traceback (most recent call last):\n",
      "  File \"C:\\Users\\zakik\\anaconda3\\lib\\site-packages\\sklearn\\model_selection\\_validation.py\", line 680, in _fit_and_score\n",
      "    estimator.fit(X_train, y_train, **fit_params)\n",
      "  File \"C:\\Users\\zakik\\anaconda3\\lib\\site-packages\\sklearn\\linear_model\\_logistic.py\", line 1461, in fit\n",
      "    solver = _check_solver(self.solver, self.penalty, self.dual)\n",
      "  File \"C:\\Users\\zakik\\anaconda3\\lib\\site-packages\\sklearn\\linear_model\\_logistic.py\", line 447, in _check_solver\n",
      "    raise ValueError(\n",
      "ValueError: Solver lbfgs supports only 'l2' or 'none' penalties, got l1 penalty.\n",
      "\n",
      "--------------------------------------------------------------------------------\n",
      "150 fits failed with the following error:\n",
      "Traceback (most recent call last):\n",
      "  File \"C:\\Users\\zakik\\anaconda3\\lib\\site-packages\\sklearn\\model_selection\\_validation.py\", line 680, in _fit_and_score\n",
      "    estimator.fit(X_train, y_train, **fit_params)\n",
      "  File \"C:\\Users\\zakik\\anaconda3\\lib\\site-packages\\sklearn\\linear_model\\_logistic.py\", line 1461, in fit\n",
      "    solver = _check_solver(self.solver, self.penalty, self.dual)\n",
      "  File \"C:\\Users\\zakik\\anaconda3\\lib\\site-packages\\sklearn\\linear_model\\_logistic.py\", line 447, in _check_solver\n",
      "    raise ValueError(\n",
      "ValueError: Solver newton-cg supports only 'l2' or 'none' penalties, got elasticnet penalty.\n",
      "\n",
      "--------------------------------------------------------------------------------\n",
      "150 fits failed with the following error:\n",
      "Traceback (most recent call last):\n",
      "  File \"C:\\Users\\zakik\\anaconda3\\lib\\site-packages\\sklearn\\model_selection\\_validation.py\", line 680, in _fit_and_score\n",
      "    estimator.fit(X_train, y_train, **fit_params)\n",
      "  File \"C:\\Users\\zakik\\anaconda3\\lib\\site-packages\\sklearn\\linear_model\\_logistic.py\", line 1461, in fit\n",
      "    solver = _check_solver(self.solver, self.penalty, self.dual)\n",
      "  File \"C:\\Users\\zakik\\anaconda3\\lib\\site-packages\\sklearn\\linear_model\\_logistic.py\", line 447, in _check_solver\n",
      "    raise ValueError(\n",
      "ValueError: Solver lbfgs supports only 'l2' or 'none' penalties, got elasticnet penalty.\n",
      "\n",
      "--------------------------------------------------------------------------------\n",
      "150 fits failed with the following error:\n",
      "Traceback (most recent call last):\n",
      "  File \"C:\\Users\\zakik\\anaconda3\\lib\\site-packages\\sklearn\\model_selection\\_validation.py\", line 680, in _fit_and_score\n",
      "    estimator.fit(X_train, y_train, **fit_params)\n",
      "  File \"C:\\Users\\zakik\\anaconda3\\lib\\site-packages\\sklearn\\linear_model\\_logistic.py\", line 1461, in fit\n",
      "    solver = _check_solver(self.solver, self.penalty, self.dual)\n",
      "  File \"C:\\Users\\zakik\\anaconda3\\lib\\site-packages\\sklearn\\linear_model\\_logistic.py\", line 457, in _check_solver\n",
      "    raise ValueError(\n",
      "ValueError: Only 'saga' solver supports elasticnet penalty, got solver=liblinear.\n",
      "\n",
      "  warnings.warn(some_fits_failed_message, FitFailedWarning)\n"
     ]
    }
   ],
   "source": [
    "# define grid search\n",
    "grid = dict(solver=solvers,penalty=penalty,C=c_values)\n",
    "cv = RepeatedStratifiedKFold(n_splits=10, n_repeats=3, random_state=1)\n",
    "grid_search = GridSearchCV(estimator=model, param_grid=grid, n_jobs=-1, cv=cv, scoring='accuracy',error_score=0)\n",
    "grid_result = grid_search.fit(X_train, y_train)\n",
    "# summarize results\n",
    "print(\"Best: %f using %s\" % (grid_result.best_score_, grid_result.best_params_))\n",
    "means = grid_result.cv_results_['mean_test_score']\n",
    "stds = grid_result.cv_results_['std_test_score']\n",
    "params = grid_result.cv_results_['params']\n",
    "for mean, stdev, param in zip(means, stds, params):\n",
    "    print(\"%f (%f) with: %r\" % (mean, stdev, param))"
   ]
  },
  {
   "cell_type": "code",
   "execution_count": 55,
   "id": "0d1c0c9b-413e-4003-952c-ff16d84790cd",
   "metadata": {},
   "outputs": [
    {
     "data": {
      "text/plain": [
       "{'C': 100, 'penalty': 'l1', 'solver': 'liblinear'}"
      ]
     },
     "execution_count": 55,
     "metadata": {},
     "output_type": "execute_result"
    }
   ],
   "source": [
    "grid_result.best_params_"
   ]
  },
  {
   "cell_type": "code",
   "execution_count": 56,
   "id": "ac4106f9-c165-47e6-be9e-c1a030ab60d6",
   "metadata": {},
   "outputs": [
    {
     "data": {
      "text/plain": [
       "LogisticRegression(C=100, penalty='l1', random_state=1, solver='liblinear')"
      ]
     },
     "execution_count": 56,
     "metadata": {},
     "output_type": "execute_result"
    }
   ],
   "source": [
    "grid_result.best_estimator_"
   ]
  },
  {
   "cell_type": "code",
   "execution_count": 59,
   "id": "02b68ed8-edb0-42d0-8e14-7842cfd94ced",
   "metadata": {
    "tags": []
   },
   "outputs": [
    {
     "data": {
      "text/plain": [
       "LogisticRegression(C=100, penalty='l1', random_state=1, solver='liblinear')"
      ]
     },
     "execution_count": 59,
     "metadata": {},
     "output_type": "execute_result"
    }
   ],
   "source": [
    "final_model = LogisticRegression(C=100, penalty='l1', random_state=1, solver='liblinear')\n",
    "final_model.fit(X_train, y_train)"
   ]
  },
  {
   "cell_type": "code",
   "execution_count": 60,
   "id": "3d134d62-0586-48e2-88c2-8d29a85ae5b5",
   "metadata": {},
   "outputs": [],
   "source": [
    "predict = final_model.predict(X_train)"
   ]
  },
  {
   "cell_type": "code",
   "execution_count": 61,
   "id": "85bdf50e-0624-4a32-8a39-30ff7d2ff26b",
   "metadata": {},
   "outputs": [
    {
     "data": {
      "text/plain": [
       "0.6235874788933627"
      ]
     },
     "execution_count": 61,
     "metadata": {},
     "output_type": "execute_result"
    }
   ],
   "source": [
    "accuracy_score(y_train, predict)"
   ]
  },
  {
   "cell_type": "code",
   "execution_count": 62,
   "id": "2f9de346-bebf-4f87-805d-fffaa0d1b0de",
   "metadata": {},
   "outputs": [],
   "source": [
    "predict = final_model.predict(X_test)"
   ]
  },
  {
   "cell_type": "code",
   "execution_count": 63,
   "id": "b7d38bc4-6a21-42eb-95a8-7b031c33e343",
   "metadata": {},
   "outputs": [
    {
     "data": {
      "text/plain": [
       "0.603030303030303"
      ]
     },
     "execution_count": 63,
     "metadata": {},
     "output_type": "execute_result"
    }
   ],
   "source": [
    "accuracy_score(y_test, predict)"
   ]
  },
  {
   "cell_type": "code",
   "execution_count": null,
   "id": "fff9a248-095e-4471-b4fe-cba47f53874d",
   "metadata": {},
   "outputs": [],
   "source": []
  },
  {
   "cell_type": "code",
   "execution_count": null,
   "id": "0f845156-95af-475b-9598-8928cd255445",
   "metadata": {},
   "outputs": [],
   "source": []
  },
  {
   "cell_type": "code",
   "execution_count": null,
   "id": "5cfa2980-bd07-4c83-bf36-fb1e15efe610",
   "metadata": {},
   "outputs": [],
   "source": []
  }
 ],
 "metadata": {
  "deepnote": {},
  "deepnote_execution_queue": [],
  "deepnote_notebook_id": "ffa9f1d6-a903-48f0-83f3-a90d951ac3ee",
  "kernelspec": {
   "display_name": "Python 3",
   "language": "python",
   "name": "python3"
  },
  "language_info": {
   "codemirror_mode": {
    "name": "ipython",
    "version": 3
   },
   "file_extension": ".py",
   "mimetype": "text/x-python",
   "name": "python",
   "nbconvert_exporter": "python",
   "pygments_lexer": "ipython3",
   "version": "3.8.8"
  }
 },
 "nbformat": 4,
 "nbformat_minor": 5
}
